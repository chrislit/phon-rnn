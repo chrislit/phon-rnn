{
 "cells": [
  {
   "cell_type": "code",
   "execution_count": 1,
   "metadata": {
    "collapsed": false
   },
   "outputs": [],
   "source": [
    "import nltk.data\n",
    "import re"
   ]
  },
  {
   "cell_type": "code",
   "execution_count": 2,
   "metadata": {
    "collapsed": false
   },
   "outputs": [],
   "source": [
    "CORPUS_DIR = '/mnt/media/corpora/wiki/'\n",
    "TEXT_FN = CORPUS_DIR+'dewiki'"
   ]
  },
  {
   "cell_type": "code",
   "execution_count": 3,
   "metadata": {
    "collapsed": false
   },
   "outputs": [],
   "source": [
    "#tokenizer = nltk.data.load('tokenizers/punkt/german.pickle')\n",
    "tokenizer = nltk.data.load('dewiki.punkt.pickle')"
   ]
  },
  {
   "cell_type": "code",
   "execution_count": 4,
   "metadata": {
    "collapsed": false
   },
   "outputs": [],
   "source": [
    "with open(TEXT_FN+'.txt', 'r', encoding='utf-8') as text:\n",
    "    with open(TEXT_FN+'_tokenized.txt', 'w', encoding='utf-8') as text_tok:\n",
    "        for line in text:\n",
    "            line = line.strip()\n",
    "            if line:\n",
    "                sents = tokenizer.tokenize(line.strip())\n",
    "                for sent in sents:\n",
    "                    sent = re.sub('\\s\\s+', ' ', sent)\n",
    "                    text_tok.write(sent)\n",
    "                    text_tok.write('\\n')"
   ]
  },
  {
   "cell_type": "code",
   "execution_count": null,
   "metadata": {
    "collapsed": true
   },
   "outputs": [],
   "source": []
  }
 ],
 "metadata": {
  "kernelspec": {
   "display_name": "Python 3",
   "language": "python",
   "name": "python3"
  },
  "language_info": {
   "codemirror_mode": {
    "name": "ipython",
    "version": 3
   },
   "file_extension": ".py",
   "mimetype": "text/x-python",
   "name": "python",
   "nbconvert_exporter": "python",
   "pygments_lexer": "ipython3",
   "version": "3.5.1"
  }
 },
 "nbformat": 4,
 "nbformat_minor": 0
}
