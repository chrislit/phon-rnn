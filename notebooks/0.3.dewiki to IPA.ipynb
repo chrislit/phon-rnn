{
 "cells": [
  {
   "cell_type": "code",
   "execution_count": 1,
   "metadata": {
    "collapsed": false
   },
   "outputs": [],
   "source": [
    "import re\n",
    "\n",
    "from narmer.phonetic import german_ipa"
   ]
  },
  {
   "cell_type": "code",
   "execution_count": 2,
   "metadata": {
    "collapsed": false
   },
   "outputs": [],
   "source": [
    "CORPUS_DIR = '/mnt/media/corpora/wiki/'\n",
    "TEXT_FN = CORPUS_DIR+'dewiki'"
   ]
  },
  {
   "cell_type": "code",
   "execution_count": 3,
   "metadata": {
    "collapsed": false
   },
   "outputs": [],
   "source": [
    "with open(TEXT_FN+'_tokenized.txt', 'r', encoding='utf-8') as text_tok:\n",
    "    with open(TEXT_FN+'_ipa.txt', 'w', encoding='utf-8') as text_ipa:\n",
    "        for line in text_tok:\n",
    "            line = line.strip()\n",
    "            phonetic = ' '.join(german_ipa(w) for w in line.split())\n",
    "            phonetic = re.sub('\\s\\s+', ' ', phonetic).strip()\n",
    "            if phonetic:\n",
    "                text_ipa.write(phonetic)\n",
    "                text_ipa.write('\\n')"
   ]
  }
 ],
 "metadata": {
  "kernelspec": {
   "display_name": "Python 3",
   "language": "python",
   "name": "python3"
  },
  "language_info": {
   "codemirror_mode": {
    "name": "ipython",
    "version": 3
   },
   "file_extension": ".py",
   "mimetype": "text/x-python",
   "name": "python",
   "nbconvert_exporter": "python",
   "pygments_lexer": "ipython3",
   "version": "3.5.1"
  }
 },
 "nbformat": 4,
 "nbformat_minor": 0
}
